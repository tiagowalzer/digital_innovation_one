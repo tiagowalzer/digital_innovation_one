{
 "cells": [
  {
   "cell_type": "markdown",
   "id": "8bfe3345-945f-491c-9e1b-2cc174ea985b",
   "metadata": {},
   "source": [
    "# Análise Exploratória de Dados"
   ]
  },
  {
   "cell_type": "code",
   "execution_count": null,
   "id": "4d2b9b0d-13d0-4ca2-853b-265e806472f8",
   "metadata": {},
   "outputs": [],
   "source": [
    "# Importando as bibliotecas\n",
    "import numpy as np\n",
    "import pandas as pd\n",
    "import matplotlib.pyplot as plt\n",
    "%matplotlib inline\n",
    "print(\"Bibliotecas importadas com sucesso!\")"
   ]
  },
  {
   "cell_type": "code",
   "execution_count": null,
   "id": "ce6ea077-dcb2-4de0-95bb-c3d8d0e360f4",
   "metadata": {},
   "outputs": [],
   "source": [
    "# Carregando o DataFrame\n",
    "df = pd.read_csv(\"./datasets/police.csv\")\n",
    "print(\"DataFrame carregado com sucesso!\")"
   ]
  },
  {
   "cell_type": "code",
   "execution_count": null,
   "id": "fbb5ace2-69e9-459e-a545-d55411579144",
   "metadata": {},
   "outputs": [],
   "source": [
    "# Visualizando as 5 primeiras linhas\n",
    "df.head()"
   ]
  },
  {
   "cell_type": "code",
   "execution_count": null,
   "id": "747a4394-62a7-4b76-937f-1a177ae993de",
   "metadata": {},
   "outputs": [],
   "source": [
    "# Quantidade de linhas e colunas\n",
    "df.shape"
   ]
  },
  {
   "cell_type": "code",
   "execution_count": null,
   "id": "24cf91d6-db2d-4a60-85f3-3f4b4cafdfb5",
   "metadata": {},
   "outputs": [],
   "source": [
    "# Verificando o tipo de dado de cada coluna\n",
    "df.dtypes"
   ]
  },
  {
   "cell_type": "code",
   "execution_count": null,
   "id": "ab3f0417-5094-4cac-942c-76ef654ab340",
   "metadata": {},
   "outputs": [],
   "source": [
    "# Consultando linhas com valores faltantes\n",
    "df.isnull().sum()"
   ]
  },
  {
   "cell_type": "code",
   "execution_count": null,
   "id": "785714ed-79a5-448e-ac09-4e9df5bbfab8",
   "metadata": {},
   "outputs": [],
   "source": [
    "# Removendo a coluna que contém apenas valores ausentes\n",
    "df.drop(\"county_name\",axis = 1,inplace = True)"
   ]
  },
  {
   "cell_type": "code",
   "execution_count": null,
   "id": "eb04b8e7-7f0b-4f98-9d0b-201972e44379",
   "metadata": {},
   "outputs": [],
   "source": [
    "df.columns"
   ]
  },
  {
   "cell_type": "code",
   "execution_count": null,
   "id": "a71b716f-006e-47ed-a611-55860d5511d7",
   "metadata": {},
   "outputs": [],
   "source": [
    "# Método alternativo\n",
    "df.dropna(axis = \"columns\", how = \"all\")"
   ]
  },
  {
   "cell_type": "markdown",
   "id": "35746c27-16d4-462f-b35b-bf2ebcda25a1",
   "metadata": {},
   "source": [
    "## Homens ou mulheres aceleram com mais frequência?"
   ]
  },
  {
   "cell_type": "code",
   "execution_count": null,
   "id": "1500163b-79fd-4a4a-81c4-ce5cc5398bca",
   "metadata": {},
   "outputs": [],
   "source": [
    "# Verificando o total de infrações por excesso de velocidade do sexo masculino e feminino\n",
    "df[df.violation == \"Speeding\"].driver_gender.value_counts(normalize=True)"
   ]
  },
  {
   "cell_type": "code",
   "execution_count": null,
   "id": "44e6625b-4bb1-4741-9dde-b249b6aa3361",
   "metadata": {},
   "outputs": [],
   "source": [
    "# Verificando as infrações do sexo masculino em todas as categorias disponíveis\n",
    "df[df.driver_gender == \"M\"].violation.value_counts(normalize = True)"
   ]
  },
  {
   "cell_type": "code",
   "execution_count": null,
   "id": "d430526d-1d77-4c97-9c46-89a1f4bf0c0d",
   "metadata": {},
   "outputs": [],
   "source": [
    "# Verificando as infrações do sexo feminino em todas as categorias disponíveis\n",
    "df[df.driver_gender == \"F\"].violation.value_counts(normalize = True)"
   ]
  },
  {
   "cell_type": "code",
   "execution_count": null,
   "id": "f12e8c0b-e9ca-42a4-a6bb-60713628362b",
   "metadata": {},
   "outputs": [],
   "source": [
    "# Podemo verificar a contagem de infrações dos dois gêneros ao mesmo tempo usando o groupby\n",
    "df.groupby(\"driver_gender\").violation.value_counts(normalize = True)"
   ]
  },
  {
   "cell_type": "markdown",
   "id": "55428cbb-fb5f-4169-83fa-ef039eced03d",
   "metadata": {},
   "source": [
    "## O gênero afeta quem é revistado durante uma parada?"
   ]
  },
  {
   "cell_type": "code",
   "execution_count": null,
   "id": "61736214-b0b7-4665-8a9c-2c9d6bccd673",
   "metadata": {},
   "outputs": [],
   "source": [
    "# Verificando quando as pessoas foram revistados ou não\n",
    "df.search_conducted.value_counts(normalize = True)"
   ]
  },
  {
   "cell_type": "code",
   "execution_count": null,
   "id": "9d4a2ad1-e65c-41c4-b8e1-91a6334a39d5",
   "metadata": {},
   "outputs": [],
   "source": [
    "# Verificando a média de pessoas revistadas\n",
    "df.search_conducted.mean()"
   ]
  },
  {
   "cell_type": "code",
   "execution_count": null,
   "id": "2f3cc0ef-94f0-4970-8e01-e84e02574744",
   "metadata": {},
   "outputs": [],
   "source": [
    "# Verificando a média de pessoas revistadas por gênero\n",
    "df.groupby(\"driver_gender\").search_conducted.mean()"
   ]
  },
  {
   "cell_type": "code",
   "execution_count": null,
   "id": "19aaa4a4-d366-4858-92c6-3b218fc39c6d",
   "metadata": {},
   "outputs": [],
   "source": [
    "# Verificando a média de pessoas revistadas por gênero e categoria\n",
    "df.groupby([\"violation\",\"driver_gender\"]).search_conducted.mean()"
   ]
  },
  {
   "cell_type": "markdown",
   "id": "8b0d57de-6314-4626-ab91-9b3590a30a4e",
   "metadata": {},
   "source": [
    "## Por que search_type tem tantos valores nulos?"
   ]
  },
  {
   "cell_type": "code",
   "execution_count": null,
   "id": "b50a449c-ca2d-4881-9485-3f2c9d752d2d",
   "metadata": {},
   "outputs": [],
   "source": [
    "# Verificando os valores nulos \n",
    "df.isnull().sum()"
   ]
  },
  {
   "cell_type": "code",
   "execution_count": null,
   "id": "0e779efa-c511-4637-9ef6-0e80c8d974fe",
   "metadata": {},
   "outputs": [],
   "source": [
    "# Contando valores nulos ou não nulos\n",
    "df.search_conducted.value_counts()"
   ]
  },
  {
   "cell_type": "code",
   "execution_count": null,
   "id": "ea9c12bc-6e4c-4b8b-8bc2-8500cfe566e4",
   "metadata": {},
   "outputs": [],
   "source": [
    "df.search_type.value_counts(dropna = False)"
   ]
  },
  {
   "cell_type": "markdown",
   "id": "c5c0e12a-ac7c-4dc8-9283-5807392ef020",
   "metadata": {},
   "source": [
    "## Durante uma busca, com que frequência o motorista é revistado?"
   ]
  },
  {
   "cell_type": "code",
   "execution_count": null,
   "id": "197e134c-f11e-460b-87b8-02927e2af450",
   "metadata": {},
   "outputs": [],
   "source": [
    "df[\"frisk\"] = df.search_type.str.contains(\"Protective Frisk\")"
   ]
  },
  {
   "cell_type": "code",
   "execution_count": null,
   "id": "ef0de4f0-13cd-41aa-9a8b-ebf95d6a34e3",
   "metadata": {},
   "outputs": [],
   "source": [
    "df.frisk.value_counts(dropna = False)"
   ]
  },
  {
   "cell_type": "code",
   "execution_count": null,
   "id": "2de59c54-e29b-4379-a5a0-ed381dd4111f",
   "metadata": {},
   "outputs": [],
   "source": [
    "df.frisk.sum()"
   ]
  },
  {
   "cell_type": "code",
   "execution_count": null,
   "id": "1020dba2-ea96-4322-bc97-8db4c8a2f3ae",
   "metadata": {},
   "outputs": [],
   "source": [
    "df.frisk.mean()"
   ]
  },
  {
   "cell_type": "markdown",
   "id": "557d5b30-d318-4f3b-a331-ea9add493803",
   "metadata": {},
   "source": [
    "## Qual ano teve o menor número de paradas?"
   ]
  },
  {
   "cell_type": "code",
   "execution_count": null,
   "id": "8dc0ee19-99a7-4ddd-aeff-caa6599614eb",
   "metadata": {},
   "outputs": [],
   "source": [
    "# Calculando o número de paradas por ano\n",
    "df.stop_date.str.slice(0, 4).value_counts()"
   ]
  },
  {
   "cell_type": "code",
   "execution_count": null,
   "id": "7b52dac3-bb61-4202-8445-c3f56fa3d678",
   "metadata": {},
   "outputs": [],
   "source": [
    "combined = df.stop_date.str.cat(df.stop_time, sep = \" \")"
   ]
  },
  {
   "cell_type": "code",
   "execution_count": null,
   "id": "4ee56980-496d-4593-ba3a-ab1511116490",
   "metadata": {},
   "outputs": [],
   "source": [
    "df[\"stop_datetime\"] = pd.to_datetime(combined)"
   ]
  },
  {
   "cell_type": "code",
   "execution_count": null,
   "id": "88827290-45bd-4ca4-8da6-e861d319a03c",
   "metadata": {},
   "outputs": [],
   "source": [
    "df.stop_datetime.dt.year.value_counts()"
   ]
  },
  {
   "cell_type": "markdown",
   "id": "00a9e487-07a8-4057-b8c4-13276c4b0e71",
   "metadata": {},
   "source": [
    "## Como a atividade da droga muda de acordo com a hora do dia?"
   ]
  },
  {
   "cell_type": "code",
   "execution_count": null,
   "id": "80f76240-9ceb-4ae7-8567-4a86f784c5be",
   "metadata": {},
   "outputs": [],
   "source": [
    "df.drugs_related_stop.dtype"
   ]
  },
  {
   "cell_type": "code",
   "execution_count": null,
   "id": "3e2e2632-d3cb-4663-b59e-20bed0fc46f1",
   "metadata": {},
   "outputs": [],
   "source": [
    "df.groupby(df.stop_datetime.dt.hour).drugs_related_stop.mean().plot();"
   ]
  },
  {
   "cell_type": "code",
   "execution_count": null,
   "id": "3507598f-f24c-4d7f-9136-1459b087f350",
   "metadata": {},
   "outputs": [],
   "source": [
    "# Alternativa: contar paradas relacionadas ao uso de drogas por hora\n",
    "df.groupby(df.stop_datetime.dt.hour).drugs_related_stop.sum().plot();"
   ]
  },
  {
   "cell_type": "markdown",
   "id": "b6008e51-944b-4981-b8ad-e83720a5ac3c",
   "metadata": {},
   "source": [
    "## A maioria das paradas ocorre à noite?"
   ]
  },
  {
   "cell_type": "code",
   "execution_count": null,
   "id": "b9c94cec-2024-4d04-a529-8708a0818c3a",
   "metadata": {},
   "outputs": [],
   "source": [
    "df.stop_datetime.dt.hour.value_counts().plot();"
   ]
  },
  {
   "cell_type": "code",
   "execution_count": null,
   "id": "1bb92d19-c622-47b9-ac30-db48fec84574",
   "metadata": {},
   "outputs": [],
   "source": [
    "#\n",
    "df.stop_datetime.dt.hour.value_counts().sort_index().plot();"
   ]
  },
  {
   "cell_type": "markdown",
   "id": "0a7e4197-7f1d-4dc4-8293-b71197e2edd8",
   "metadata": {},
   "source": [
    "## Encontrando os dados incorretos na coluna stop_duration e corrigindo"
   ]
  },
  {
   "cell_type": "code",
   "execution_count": null,
   "id": "b3fd9ba8-726a-427d-82fd-184e5f516b30",
   "metadata": {},
   "outputs": [],
   "source": [
    "df.stop_duration.value_counts()"
   ]
  },
  {
   "cell_type": "code",
   "execution_count": null,
   "id": "74394690-b8e9-495f-bfe3-e982a8014c4b",
   "metadata": {},
   "outputs": [],
   "source": [
    "df.loc[(df.stop_duration == '1') | (df.stop_duration == '2'), 'stop_duration'] = 'NaN'"
   ]
  },
  {
   "cell_type": "code",
   "execution_count": null,
   "id": "4c47c82c-242a-4d1f-abf4-69e322238d56",
   "metadata": {},
   "outputs": [],
   "source": [
    "df.stop_duration.value_counts(dropna=False)"
   ]
  },
  {
   "cell_type": "code",
   "execution_count": null,
   "id": "1b336b81-8427-4b29-b408-d72985949254",
   "metadata": {},
   "outputs": [],
   "source": [
    "df.loc[df.stop_duration == 'NaN', 'stop_duration'] = np.nan"
   ]
  },
  {
   "cell_type": "code",
   "execution_count": null,
   "id": "cca9d368-a33e-4efa-a27b-fae82b9e7a9f",
   "metadata": {},
   "outputs": [],
   "source": [
    "df.stop_duration.value_counts(dropna=False)"
   ]
  },
  {
   "cell_type": "markdown",
   "id": "6d5ff907-0188-4a09-a7ee-0ae117adba47",
   "metadata": {},
   "source": [
    "## Qual é a média de cada parada por violação?"
   ]
  },
  {
   "cell_type": "code",
   "execution_count": null,
   "id": "f2c7b28c-c1b7-46a0-98fc-43553e015144",
   "metadata": {},
   "outputs": [],
   "source": [
    "mapping = {'0-15 Min':8, '16-30 Min':23, '30+ Min':45}\n",
    "df['stop_minutes'] = df.stop_duration.map(mapping)"
   ]
  },
  {
   "cell_type": "code",
   "execution_count": null,
   "id": "64a38b25-7cae-4afc-a08f-b2e043288e3d",
   "metadata": {},
   "outputs": [],
   "source": [
    "# corresponde a value_counts para stop_duration\n",
    "df.stop_minutes.value_counts()"
   ]
  },
  {
   "cell_type": "code",
   "execution_count": null,
   "id": "6d07e938-f73c-4d95-ad40-139e9006862d",
   "metadata": {},
   "outputs": [],
   "source": [
    "df.groupby('violation_raw').stop_minutes.mean()"
   ]
  },
  {
   "cell_type": "code",
   "execution_count": null,
   "id": "6ade2fd5-d968-4488-b067-33fa1a009442",
   "metadata": {},
   "outputs": [],
   "source": [
    "df.groupby('violation_raw').stop_minutes.agg(['mean', 'count'])"
   ]
  },
  {
   "cell_type": "markdown",
   "id": "809efb72-a71f-4adf-ace4-b04add294827",
   "metadata": {},
   "source": [
    "## Plote os resultados do primeiro GROUPBY do execício anterior"
   ]
  },
  {
   "cell_type": "code",
   "execution_count": null,
   "id": "9f38d893-d053-4a28-afeb-be72e5d42934",
   "metadata": {},
   "outputs": [],
   "source": [
    "df.groupby('violation_raw').stop_minutes.mean().plot();"
   ]
  },
  {
   "cell_type": "code",
   "execution_count": null,
   "id": "8af9bb12-afd1-4a4a-97de-4789279b8396",
   "metadata": {},
   "outputs": [],
   "source": [
    "df.groupby('violation_raw').stop_minutes.mean().plot(kind='bar');"
   ]
  },
  {
   "cell_type": "code",
   "execution_count": null,
   "id": "249d05c8-2e8a-4402-9138-74ba5175827c",
   "metadata": {},
   "outputs": [],
   "source": [
    "df.groupby('violation_raw').stop_minutes.mean().sort_values().plot(kind='barh');"
   ]
  },
  {
   "cell_type": "markdown",
   "id": "2eb3fef4-165e-4944-8544-642d6bb992c7",
   "metadata": {},
   "source": [
    "## Compare as distribuições de idade para cada violação"
   ]
  },
  {
   "cell_type": "code",
   "execution_count": null,
   "id": "4211e056-dc90-4199-a10f-75297af3fd31",
   "metadata": {},
   "outputs": [],
   "source": [
    "df.groupby('violation').driver_age.describe()"
   ]
  },
  {
   "cell_type": "code",
   "execution_count": null,
   "id": "458841f2-2fb8-4b22-9c0f-654e10b5ce56",
   "metadata": {},
   "outputs": [],
   "source": [
    "df.driver_age.plot(kind='hist');"
   ]
  },
  {
   "cell_type": "code",
   "execution_count": null,
   "id": "fa43a6ac-d34f-44b3-966e-67326ecafead",
   "metadata": {},
   "outputs": [],
   "source": [
    "df.driver_age.value_counts().sort_index().plot();"
   ]
  },
  {
   "cell_type": "code",
   "execution_count": null,
   "id": "902dd25c-5795-4abb-876f-6fc8923ed1a9",
   "metadata": {},
   "outputs": [],
   "source": [
    "df.hist('driver_age', by='violation')\n",
    "plt.show()"
   ]
  },
  {
   "cell_type": "code",
   "execution_count": null,
   "id": "ef5394a6-488a-405e-9662-9e44a467aee0",
   "metadata": {},
   "outputs": [],
   "source": [
    "df.hist('driver_age', by='violation', sharex=True)\n",
    "plt.show()"
   ]
  },
  {
   "cell_type": "code",
   "execution_count": null,
   "id": "627284aa-e8f1-4e3b-979f-e93b2d14e314",
   "metadata": {},
   "outputs": [],
   "source": [
    "# Essa é melhor que a anterior\n",
    "df.hist('driver_age', by='violation', sharex=True, sharey=True)\n",
    "plt.show()"
   ]
  },
  {
   "cell_type": "markdown",
   "id": "0e46e4c6-cad4-4735-ad14-b5481656aa1e",
   "metadata": {},
   "source": [
    "## Finja que você não tem a coluna driver_age e crie-a a partir de driver_age_raw (e chame-a de new_age)"
   ]
  },
  {
   "cell_type": "code",
   "execution_count": null,
   "id": "bfaf158d-4b20-43b7-97f2-5ce10af0c3fd",
   "metadata": {},
   "outputs": [],
   "source": [
    "df['new_age'] = df.stop_datetime.dt.year - df.driver_age_raw\n",
    "df[['driver_age', 'new_age']].hist()\n",
    "plt.show()"
   ]
  },
  {
   "cell_type": "code",
   "execution_count": null,
   "id": "6a607a38-ea8b-4ab0-a3f0-2ecb8aab5884",
   "metadata": {},
   "outputs": [],
   "source": [
    "df[['driver_age', 'new_age']].describe()"
   ]
  },
  {
   "cell_type": "code",
   "execution_count": null,
   "id": "df5d245e-97e5-4bd3-8e05-4c795b553125",
   "metadata": {},
   "outputs": [],
   "source": [
    "# Verificando a quantidade de linhas e colunas quando temos idade entre < 15 e 99 >\n",
    "df[(df.new_age < 15) | (df.new_age > 99)].shape"
   ]
  },
  {
   "cell_type": "code",
   "execution_count": null,
   "id": "8787967b-9f9f-4eb7-aedf-f5d31d416da8",
   "metadata": {},
   "outputs": [],
   "source": [
    "df.driver_age_raw.isnull().sum()"
   ]
  },
  {
   "cell_type": "code",
   "execution_count": null,
   "id": "709a53f0-aae1-4181-986a-4f92bfeb792b",
   "metadata": {},
   "outputs": [],
   "source": [
    "5621-5327"
   ]
  },
  {
   "cell_type": "code",
   "execution_count": null,
   "id": "90a8ac7c-63c7-47c8-9a87-cd05757f4ef9",
   "metadata": {},
   "outputs": [],
   "source": [
    "# driver_age_raw NÃO FALTA, driver_age FALTA\n",
    "df[(df.driver_age_raw.notnull()) & (df.driver_age.isnull())].head()"
   ]
  },
  {
   "cell_type": "code",
   "execution_count": null,
   "id": "477303a5-d8a0-4dbe-9c6d-1b75e25c3b2b",
   "metadata": {},
   "outputs": [],
   "source": [
    "# definir as idades fora desse intervalo como ausentes\n",
    "df.loc[(df.new_age < 15) | (df.new_age > 99), 'new_age'] = np.nan\n",
    "df.new_age.equals(df.driver_age)"
   ]
  },
  {
   "cell_type": "code",
   "execution_count": null,
   "id": "3f8792b3-c913-431b-bf3b-29db2704d7b9",
   "metadata": {},
   "outputs": [],
   "source": []
  }
 ],
 "metadata": {
  "kernelspec": {
   "display_name": "Python 3 (ipykernel)",
   "language": "python",
   "name": "python3"
  },
  "language_info": {
   "codemirror_mode": {
    "name": "ipython",
    "version": 3
   },
   "file_extension": ".py",
   "mimetype": "text/x-python",
   "name": "python",
   "nbconvert_exporter": "python",
   "pygments_lexer": "ipython3",
   "version": "3.9.5"
  }
 },
 "nbformat": 4,
 "nbformat_minor": 5
}
